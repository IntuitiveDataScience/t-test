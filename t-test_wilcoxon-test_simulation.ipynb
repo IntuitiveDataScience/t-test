{
 "cells": [
  {
   "cell_type": "code",
   "execution_count": 1,
   "metadata": {},
   "outputs": [],
   "source": [
    "import numpy as np\n",
    "from tqdm import tqdm\n",
    "from matplotlib import pyplot as plt\n",
    "\n",
    "from scipy.stats import ttest_ind as t_test\n",
    "from scipy.stats import wilcoxon as wilcoxon_test"
   ]
  },
  {
   "cell_type": "code",
   "execution_count": 2,
   "metadata": {},
   "outputs": [],
   "source": [
    "EPSILONS = np.arange(0, .2, .025)\n",
    "MU_1 = .25\n",
    "N = 500\n",
    "REPLICATIONS = 1000\n",
    "TEST_FNS = {'wilcoxon': lambda x, y: wilcoxon_test(x, y)[1],\n",
    "            't': lambda x, y: t_test(x, y)[1]}"
   ]
  },
  {
   "cell_type": "code",
   "execution_count": 3,
   "metadata": {},
   "outputs": [],
   "source": [
    "def sampler_factory(mu, epsilon):\n",
    "    def sampler():\n",
    "        if np.random.uniform(0, 1) < epsilon:\n",
    "            return np.random.normal(loc=mu, scale=10)\n",
    "        else:\n",
    "            return np.random.normal(loc=mu, scale=1)\n",
    "        \n",
    "    return sampler"
   ]
  },
  {
   "cell_type": "code",
   "execution_count": 4,
   "metadata": {},
   "outputs": [
    {
     "name": "stderr",
     "output_type": "stream",
     "text": [
      "100%|██████████| 8/8 [01:16<00:00,  9.19s/it]\n"
     ]
    }
   ],
   "source": [
    "size = {'wilcoxon':[],\n",
    "        't':[]}\n",
    "\n",
    "power = {'wilcoxon':[],\n",
    "         't':[]}\n",
    "\n",
    "for epsilon in tqdm(EPSILONS):\n",
    "    \n",
    "    #build samplers\n",
    "    control_sampler = sampler_factory(0, 0)\n",
    "    center_sampler = sampler_factory(0, epsilon)\n",
    "    offcenter_sampler = sampler_factory(MU_1, epsilon) \n",
    "    \n",
    "    #set up logging\n",
    "    type_I_errors = {'wilcoxon':0,\n",
    "                     't':0,}\n",
    "    \n",
    "    correct_rejections = {'wilcoxon':0,\n",
    "                          't':0,}\n",
    "    \n",
    "    #monte carlo main loop\n",
    "    for replication in range(REPLICATIONS):\n",
    "        \n",
    "        #get control\n",
    "        control = [control_sampler() for _ in range(N)]\n",
    "        \n",
    "        #simulate size\n",
    "        sample = [center_sampler() for _ in range(N)]\n",
    "        \n",
    "        for test_name, test_fn in TEST_FNS.items():\n",
    "            p = test_fn(control, sample)\n",
    "            if p < .05:\n",
    "                type_I_errors[test_name] +=1\n",
    "                \n",
    "                \n",
    "        #simulate power\n",
    "        sample = [offcenter_sampler() for _ in range(N)]\n",
    "        for test_name, test_fn in TEST_FNS.items():\n",
    "            p = test_fn(control, sample)\n",
    "            if p < .05:\n",
    "                correct_rejections[test_name] +=1\n",
    "                \n",
    "    #log out the result of this epsilon's test\n",
    "    for test_name, errors in type_I_errors.items():\n",
    "        size[test_name].append(errors/REPLICATIONS)\n",
    "        \n",
    "    for test_name, corrects in correct_rejections.items():\n",
    "        power[test_name].append(corrects/REPLICATIONS)"
   ]
  },
  {
   "cell_type": "code",
   "execution_count": 5,
   "metadata": {},
   "outputs": [
    {
     "data": {
      "image/png": "[encoded data removed]",
      "text/plain": [
       "<Figure size 432x288 with 1 Axes>"
      ]
     },
     "metadata": {},
     "output_type": "display_data"
    }
   ],
   "source": [
    "plt.figure()\n",
    "for alg, series in size.items():\n",
    "    plt.plot(EPSILONS, series, label=alg)\n",
    "    plt.scatter(EPSILONS, series)\n",
    "    \n",
    "plt.xlabel('epsilon')\n",
    "plt.ylabel('size')\n",
    "plt.ylim(top=1, bottom=0)\n",
    "plt.legend()\n",
    "plt.savefig('4a.png')\n",
    "plt.show()"
   ]
  },
  {
   "cell_type": "code",
   "execution_count": 6,
   "metadata": {},
   "outputs": [
    {
     "data": {
      "image/png": "[encoded data removed]",
      "text/plain": [
       "<Figure size 432x288 with 1 Axes>"
      ]
     },
     "metadata": {},
     "output_type": "display_data"
    }
   ],
   "source": [
    "plt.figure()\n",
    "for alg, series in power.items():\n",
    "    plt.plot(EPSILONS, series, label=alg)\n",
    "    plt.scatter(EPSILONS, series)\n",
    "    \n",
    "plt.xlabel('epsilon')\n",
    "plt.ylabel('power')\n",
    "plt.legend()\n",
    "plt.savefig('4b.png')\n",
    "plt.show()"
   ]
  },
  {
   "cell_type": "code",
   "execution_count": null,
   "metadata": {},
   "outputs": [],
   "source": []
  }
 ],
 "metadata": {
  "kernelspec": {
   "display_name": "Python 3",
   "language": "python",
   "name": "python3"
  },
  "language_info": {
   "codemirror_mode": {
    "name": "ipython",
    "version": 3
   },
   "file_extension": ".py",
   "mimetype": "text/x-python",
   "name": "python",
   "nbconvert_exporter": "python",
   "pygments_lexer": "ipython3",
   "version": "3.5.2"
  }
 },
 "nbformat": 4,
 "nbformat_minor": 2
}
